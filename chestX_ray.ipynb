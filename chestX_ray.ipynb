{
  "nbformat": 4,
  "nbformat_minor": 0,
  "metadata": {
    "colab": {
      "name": "chestX-ray",
      "provenance": [],
      "private_outputs": true,
      "collapsed_sections": [],
      "toc_visible": true,
      "include_colab_link": true
    },
    "kernelspec": {
      "name": "python3",
      "display_name": "Python 3"
    },
    "accelerator": "GPU"
  },
  "cells": [
    {
      "cell_type": "markdown",
      "metadata": {
        "id": "view-in-github",
        "colab_type": "text"
      },
      "source": [
        "<a href=\"https://colab.research.google.com/github/ronniesong0809/chestX-ray/blob/master/chestX_ray.ipynb\" target=\"_parent\"><img src=\"https://colab.research.google.com/assets/colab-badge.svg\" alt=\"Open In Colab\"/></a>"
      ]
    },
    {
      "cell_type": "code",
      "metadata": {
        "id": "gqWWnLRWENCi",
        "colab_type": "code",
        "colab": {}
      },
      "source": [
        "!echo '{\"username\":\"ronniesong0809\",\"key\":\"269788090750b1eb7d55a04d86886708\"}' > kaggle.json\n",
        "!cp /content/kaggle.json /root/.kaggle/kaggle.json"
      ],
      "execution_count": 0,
      "outputs": []
    },
    {
      "cell_type": "code",
      "metadata": {
        "id": "r4f3T6XZaqqj",
        "colab_type": "code",
        "colab": {}
      },
      "source": [
        "!cp /content/kaggle.json /root/.kaggle/kaggle.json\n",
        "!chmod 600 /root/.kaggle/kaggle.json\n",
        "!kaggle config set -n path -v/content"
      ],
      "execution_count": 0,
      "outputs": []
    },
    {
      "cell_type": "code",
      "metadata": {
        "id": "WZi-s11tAfzP",
        "colab_type": "code",
        "colab": {}
      },
      "source": [
        "!kaggle datasets download -d paultimothymooney/chest-xray-pneumonia"
      ],
      "execution_count": 0,
      "outputs": []
    },
    {
      "cell_type": "code",
      "metadata": {
        "id": "H6ZhhFl19DN-",
        "colab_type": "code",
        "colab": {}
      },
      "source": [
        "!unzip datasets/paultimothymooney/chest-xray-pneumonia/chest-xray-pneumonia.zip"
      ],
      "execution_count": 0,
      "outputs": []
    },
    {
      "cell_type": "code",
      "metadata": {
        "id": "bUHTcnt37Tuy",
        "colab_type": "code",
        "colab": {}
      },
      "source": [
        "import pandas as pd\n",
        "import numpy as np\n",
        "import os\n",
        "import matplotlib.pyplot as plt\n",
        "%matplotlib inline"
      ],
      "execution_count": 0,
      "outputs": []
    },
    {
      "cell_type": "code",
      "metadata": {
        "id": "b8LbRxUn7XcB",
        "colab_type": "code",
        "colab": {}
      },
      "source": [
        "import keras\n",
        "from keras.models import Sequential\n",
        "from keras.layers import Conv2D,MaxPool2D,Dense,Dropout,Softmax,Input,Flatten, SeparableConv2D\n",
        "from keras.optimizers import Adam,RMSprop,SGD\n",
        "from keras.layers.merge import add\n",
        "from keras.layers import Dense, Activation, Flatten\n",
        "from keras.layers import Conv2D, MaxPooling2D, BatchNormalization\n",
        "from keras.layers import BatchNormalization\n",
        "from keras.metrics import categorical_accuracy\n",
        "from keras.preprocessing.image import ImageDataGenerator\n",
        "\n",
        "from sklearn.metrics import roc_auc_score,roc_curve,accuracy_score,recall_score\n",
        "\n",
        "# from tensorflow import set_random_seed\n",
        "import tensorflow as tf"
      ],
      "execution_count": 0,
      "outputs": []
    },
    {
      "cell_type": "code",
      "metadata": {
        "id": "tkSP5sFf7ed3",
        "colab_type": "code",
        "colab": {}
      },
      "source": [
        "os.environ['PYTHONHASHSEED'] = \"0\"\n",
        "np.random.seed(1)\n",
        "# set_random_seed(2)\n",
        "tf.random.set_seed(2)"
      ],
      "execution_count": 0,
      "outputs": []
    },
    {
      "cell_type": "markdown",
      "metadata": {
        "id": "xAMgZSovBAt1",
        "colab_type": "text"
      },
      "source": [
        "## Model 1: Simple CNN"
      ]
    },
    {
      "cell_type": "code",
      "metadata": {
        "id": "YWbxCW1WA_0w",
        "colab_type": "code",
        "colab": {}
      },
      "source": [
        "model = Sequential()\n",
        "model.add(Conv2D(filters=32, kernel_size=(3,3), activation=\"relu\", padding=\"same\", input_shape=(64,64,1)))\n",
        "model.add(Conv2D(filters=32, kernel_size=(3,3), activation=\"relu\", padding=\"same\"))\n",
        "model.add(BatchNormalization())\n",
        "model.add(MaxPooling2D(pool_size=(2,2)))\n",
        "model.add(Dropout(rate=0.25))\n",
        "\n",
        "model.add(Conv2D(filters=64, kernel_size=(3,3), activation=\"relu\", padding=\"same\"))\n",
        "model.add(Conv2D(filters=64, kernel_size=(3,3), activation=\"relu\", padding=\"same\"))\n",
        "model.add(BatchNormalization())\n",
        "model.add(MaxPooling2D(pool_size=(2,2)))\n",
        "model.add(Dropout(rate=0.25))\n",
        "\n",
        "model.add(Flatten())\n",
        "model.add(Dense(1024,activation=\"relu\"))\n",
        "model.add(BatchNormalization())\n",
        "model.add(Dropout(rate=0.4))\n",
        "model.add(Dense(2, activation=\"softmax\"))"
      ],
      "execution_count": 0,
      "outputs": []
    },
    {
      "cell_type": "markdown",
      "metadata": {
        "id": "WIkjg-atC3OL",
        "colab_type": "text"
      },
      "source": [
        "## Model 2: VGG16"
      ]
    },
    {
      "cell_type": "code",
      "metadata": {
        "id": "-eEMxIhAC56O",
        "colab_type": "code",
        "colab": {}
      },
      "source": [
        "# from keras.layers import SeparableConv2D, ZeroPadding2D\n",
        "\n",
        "# model = Sequential()\n",
        "# model.add(Conv2D(64, (3,3), activation='relu', padding='same', name='Conv1_1', input_shape=(224,224,1)))\n",
        "# model.add(Conv2D(64, (3,3), activation=\"relu\", padding=\"same\"))\n",
        "# # model.add(BatchNormalization())\n",
        "# model.add(MaxPooling2D(pool_size=(2, 2), strides=(2, 2), padding=\"SAME\"))\n",
        "\n",
        "# model.add(SeparableConv2D(128, (3,3), activation='relu', padding='same'))\n",
        "# model.add(SeparableConv2D(128, (3,3), activation='relu', padding='same'))\n",
        "# # model.add(BatchNormalization())\n",
        "# model.add(MaxPooling2D(pool_size=(2, 2), strides=(2, 2), padding=\"SAME\"))\n",
        "\n",
        "# model.add(SeparableConv2D(256, (3,3), activation='relu', padding='same'))\n",
        "# model.add(SeparableConv2D(256, (3,3), activation='relu', padding='same'))\n",
        "# model.add(SeparableConv2D(256, (3,3), activation='relu', padding='same'))\n",
        "# # model.add(BatchNormalization())\n",
        "# model.add(MaxPooling2D(pool_size=(2, 2), strides=(2, 2), padding=\"SAME\"))\n",
        "\n",
        "# model.add(SeparableConv2D(512, (3,3), activation='relu', padding='same'))\n",
        "# model.add(SeparableConv2D(512, (3,3), activation='relu', padding='same'))\n",
        "# model.add(SeparableConv2D(512, (3,3), activation='relu', padding='same'))\n",
        "# # model.add(BatchNormalization())\n",
        "# model.add(MaxPooling2D(pool_size=(2, 2), strides=(2, 2), padding=\"SAME\"))\n",
        "\n",
        "# model.add(SeparableConv2D(512, (3,3), activation='relu', padding='same'))\n",
        "# model.add(SeparableConv2D(512, (3,3), activation='relu', padding='same'))\n",
        "# model.add(SeparableConv2D(512, (3,3), activation='relu', padding='same'))\n",
        "# # model.add(BatchNormalization())\n",
        "# model.add(MaxPooling2D(pool_size=(2, 2), strides=(2, 2), padding=\"SAME\"))\n",
        "\n",
        "# model.add(Flatten())\n",
        "# model.add(Dense(4096, activation='relu'))\n",
        "# model.add(Dense(4096, activation='relu'))\n",
        "# # model.add(Dropout(0.7))\n",
        "# model.add(Dense(1000, activation='relu'))\n",
        "# # model.add(Dropout(0.5))\n",
        "\n",
        "# model.add(Dense(2, activation='softmax'))"
      ],
      "execution_count": 0,
      "outputs": []
    },
    {
      "cell_type": "code",
      "metadata": {
        "id": "LblRJecABHLW",
        "colab_type": "code",
        "colab": {}
      },
      "source": [
        "model.summary()"
      ],
      "execution_count": 0,
      "outputs": []
    },
    {
      "cell_type": "code",
      "metadata": {
        "id": "2r5sGSNP7hBc",
        "colab_type": "code",
        "colab": {}
      },
      "source": [
        "gen = ImageDataGenerator()\n",
        "train_batches = gen.flow_from_directory(\"chest_xray/chest_xray/train\", model.input_shape[1:3], color_mode=\"grayscale\", shuffle=True, seed=1, batch_size=16)\n",
        "valid_batches = gen.flow_from_directory(\"chest_xray/chest_xray/val\",   model.input_shape[1:3], color_mode=\"grayscale\", shuffle=True, seed=1, batch_size=16)\n",
        "test_batches  = gen.flow_from_directory(\"chest_xray/chest_xray/test\",  model.input_shape[1:3], color_mode=\"grayscale\", shuffle=False, batch_size=8)"
      ],
      "execution_count": 0,
      "outputs": []
    },
    {
      "cell_type": "markdown",
      "metadata": {
        "id": "l7RSffCOBxVp",
        "colab_type": "text"
      },
      "source": [
        "## **Experiment 1.** learning rate = 0.01"
      ]
    },
    {
      "cell_type": "code",
      "metadata": {
        "id": "D8i4D_TRBKS7",
        "colab_type": "code",
        "colab": {}
      },
      "source": [
        "model.compile(Adam(lr=0.001),loss=\"categorical_crossentropy\", metrics=[\"accuracy\"])\n",
        "model.fit_generator(train_batches, validation_data=valid_batches, epochs=3)"
      ],
      "execution_count": 0,
      "outputs": []
    },
    {
      "cell_type": "code",
      "metadata": {
        "id": "R3GIQE86UbUM",
        "colab_type": "code",
        "colab": {}
      },
      "source": [
        "p = model.predict_generator(test_batches, verbose=True)\n",
        "pre = pd.DataFrame(p)\n",
        "pre[\"filename\"] = test_batches.filenames\n",
        "pre[\"label\"] = (pre[\"filename\"].str.contains(\"PNEUMONIA\")).apply(int)\n",
        "pre['pre'] = (pre[1]>0.5).apply(int)\n",
        "print(pre)"
      ],
      "execution_count": 0,
      "outputs": []
    },
    {
      "cell_type": "code",
      "metadata": {
        "id": "3GlXF49nUdnz",
        "colab_type": "code",
        "colab": {}
      },
      "source": [
        "recall_score(pre[\"label\"], pre[\"pre\"])"
      ],
      "execution_count": 0,
      "outputs": []
    },
    {
      "cell_type": "code",
      "metadata": {
        "id": "w4mL0WESUe6A",
        "colab_type": "code",
        "colab": {}
      },
      "source": [
        "roc_auc_score(pre[\"label\"],pre[1])"
      ],
      "execution_count": 0,
      "outputs": []
    },
    {
      "cell_type": "code",
      "metadata": {
        "id": "ebdrbMPlUgWQ",
        "colab_type": "code",
        "colab": {}
      },
      "source": [
        "tpr,fpr,thres = roc_curve(pre[\"label\"],pre[1])\n",
        "roc = pd.DataFrame([tpr,fpr]).T\n",
        "roc.plot(x=0,y=1)"
      ],
      "execution_count": 0,
      "outputs": []
    },
    {
      "cell_type": "markdown",
      "metadata": {
        "id": "KKHHXKBIUg3F",
        "colab_type": "text"
      },
      "source": [
        "## **Experiment 2.** learning rate = 0.001"
      ]
    },
    {
      "cell_type": "code",
      "metadata": {
        "id": "gYZ8JDFFUZVt",
        "colab_type": "code",
        "colab": {}
      },
      "source": [
        "model.compile(Adam(lr=0.001),loss=\"categorical_crossentropy\", metrics=[\"accuracy\"])\n",
        "model.fit_generator(train_batches, validation_data=valid_batches, epochs=3)"
      ],
      "execution_count": 0,
      "outputs": []
    },
    {
      "cell_type": "code",
      "metadata": {
        "id": "lGb9mTUHBeRy",
        "colab_type": "code",
        "colab": {}
      },
      "source": [
        "p = model.predict_generator(test_batches, verbose=True)\n",
        "pre = pd.DataFrame(p)\n",
        "pre[\"filename\"] = test_batches.filenames\n",
        "pre[\"label\"] = (pre[\"filename\"].str.contains(\"PNEUMONIA\")).apply(int)\n",
        "pre['pre'] = (pre[1]>0.5).apply(int)\n",
        "print(pre)"
      ],
      "execution_count": 0,
      "outputs": []
    },
    {
      "cell_type": "code",
      "metadata": {
        "id": "1SeACpnKBgfz",
        "colab_type": "code",
        "colab": {}
      },
      "source": [
        "recall_score(pre[\"label\"], pre[\"pre\"])"
      ],
      "execution_count": 0,
      "outputs": []
    },
    {
      "cell_type": "code",
      "metadata": {
        "id": "Z56dibIqG4o4",
        "colab_type": "code",
        "colab": {}
      },
      "source": [
        "roc_auc_score(pre[\"label\"],pre[1])"
      ],
      "execution_count": 0,
      "outputs": []
    },
    {
      "cell_type": "code",
      "metadata": {
        "id": "SXbGksFkG3pA",
        "colab_type": "code",
        "colab": {}
      },
      "source": [
        "tpr,fpr,thres = roc_curve(pre[\"label\"],pre[1])\n",
        "roc = pd.DataFrame([tpr,fpr]).T\n",
        "roc.plot(x=0,y=1)"
      ],
      "execution_count": 0,
      "outputs": []
    },
    {
      "cell_type": "markdown",
      "metadata": {
        "id": "_x4qqbHqBv2l",
        "colab_type": "text"
      },
      "source": [
        "## **Experiment 3.** learning rate = 0.0001"
      ]
    },
    {
      "cell_type": "code",
      "metadata": {
        "id": "8p1pCeFiBL8e",
        "colab_type": "code",
        "colab": {}
      },
      "source": [
        "model.compile(Adam(lr=0.0001), loss=\"categorical_crossentropy\", metrics=[\"accuracy\"])\n",
        "model.fit_generator(train_batches, validation_data=valid_batches, epochs=3)"
      ],
      "execution_count": 0,
      "outputs": []
    },
    {
      "cell_type": "code",
      "metadata": {
        "id": "y8pcUn4UBub9",
        "colab_type": "code",
        "colab": {}
      },
      "source": [
        "p = model.predict_generator(test_batches, verbose=True)\n",
        "pre = pd.DataFrame(p)\n",
        "pre[\"filename\"] = test_batches.filenames\n",
        "pre[\"label\"] = (pre[\"filename\"].str.contains(\"PNEUMONIA\")).apply(int)\n",
        "pre['pre'] = (pre[1]>0.5).apply(int)"
      ],
      "execution_count": 0,
      "outputs": []
    },
    {
      "cell_type": "code",
      "metadata": {
        "id": "IeiPJQpdBmJm",
        "colab_type": "code",
        "colab": {}
      },
      "source": [
        "recall_score(pre[\"label\"],pre[\"pre\"])"
      ],
      "execution_count": 0,
      "outputs": []
    },
    {
      "cell_type": "code",
      "metadata": {
        "id": "y27upvTRTxAK",
        "colab_type": "code",
        "colab": {}
      },
      "source": [
        "roc_auc_score(pre[\"label\"],pre[1])"
      ],
      "execution_count": 0,
      "outputs": []
    },
    {
      "cell_type": "code",
      "metadata": {
        "id": "fGbBJpzrTyOK",
        "colab_type": "code",
        "colab": {}
      },
      "source": [
        "tpr,fpr,thres = roc_curve(pre[\"label\"],pre[1])\n",
        "roc = pd.DataFrame([tpr,fpr]).T\n",
        "roc.plot(x=0,y=1)"
      ],
      "execution_count": 0,
      "outputs": []
    }
  ]
}