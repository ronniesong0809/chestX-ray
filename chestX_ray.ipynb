{
  "nbformat": 4,
  "nbformat_minor": 0,
  "metadata": {
    "colab": {
      "name": "chestX-ray",
      "provenance": [],
      "collapsed_sections": [],
      "include_colab_link": true
    },
    "kernelspec": {
      "name": "python3",
      "display_name": "Python 3"
    },
    "accelerator": "GPU"
  },
  "cells": [
    {
      "cell_type": "markdown",
      "metadata": {
        "id": "view-in-github",
        "colab_type": "text"
      },
      "source": [
        "<a href=\"https://colab.research.google.com/github/ronniesong0809/chestX-ray/blob/master/chestX_ray.ipynb\" target=\"_parent\"><img src=\"https://colab.research.google.com/assets/colab-badge.svg\" alt=\"Open In Colab\"/></a>"
      ]
    },
    {
      "cell_type": "code",
      "metadata": {
        "id": "gqWWnLRWENCi",
        "colab_type": "code",
        "colab": {}
      },
      "source": [
        "!echo '{\"username\":\"ronniesong0809\",\"key\":\"269788090750b1eb7d55a04d86886708\"}' > kaggle.json\n",
        "!cp /content/kaggle.json /root/.kaggle/kaggle.json"
      ],
      "execution_count": 0,
      "outputs": []
    },
    {
      "cell_type": "code",
      "metadata": {
        "id": "r4f3T6XZaqqj",
        "colab_type": "code",
        "outputId": "7b2e4784-9790-40b6-8f49-7ee4e0b316d2",
        "colab": {
          "base_uri": "https://localhost:8080/",
          "height": 34
        }
      },
      "source": [
        "!cp /content/kaggle.json /root/.kaggle/kaggle.json\n",
        "!chmod 600 /root/.kaggle/kaggle.json\n",
        "!kaggle config set -n path -v/content"
      ],
      "execution_count": 0,
      "outputs": [
        {
          "output_type": "stream",
          "text": [
            "- path is now set to: /content\n"
          ],
          "name": "stdout"
        }
      ]
    },
    {
      "cell_type": "code",
      "metadata": {
        "id": "WZi-s11tAfzP",
        "colab_type": "code",
        "outputId": "e9c8f715-fc0c-4996-9e51-6d4b11b0b3a5",
        "colab": {
          "base_uri": "https://localhost:8080/",
          "height": 68
        }
      },
      "source": [
        "!kaggle datasets download -d paultimothymooney/chest-xray-pneumonia"
      ],
      "execution_count": 0,
      "outputs": [
        {
          "output_type": "stream",
          "text": [
            "Downloading chest-xray-pneumonia.zip to /content/datasets/paultimothymooney/chest-xray-pneumonia\n",
            "100% 2.29G/2.29G [00:30<00:00, 21.4MB/s]\n",
            "100% 2.29G/2.29G [00:31<00:00, 79.4MB/s]\n"
          ],
          "name": "stdout"
        }
      ]
    },
    {
      "cell_type": "code",
      "metadata": {
        "id": "H6ZhhFl19DN-",
        "colab_type": "code",
        "colab": {}
      },
      "source": [
        "!unzip datasets/paultimothymooney/chest-xray-pneumonia/chest-xray-pneumonia.zip"
      ],
      "execution_count": 0,
      "outputs": []
    },
    {
      "cell_type": "code",
      "metadata": {
        "id": "bUHTcnt37Tuy",
        "colab_type": "code",
        "colab": {}
      },
      "source": [
        "import pandas as pd\n",
        "import numpy as np\n",
        "import os\n",
        "import matplotlib.pyplot as plt\n",
        "%matplotlib inline"
      ],
      "execution_count": 0,
      "outputs": []
    },
    {
      "cell_type": "code",
      "metadata": {
        "id": "b8LbRxUn7XcB",
        "colab_type": "code",
        "outputId": "5d91fcc0-1d81-48fa-f0a5-19669bcc2831",
        "colab": {
          "base_uri": "https://localhost:8080/",
          "height": 34
        }
      },
      "source": [
        "import keras\n",
        "from keras.models import Sequential\n",
        "from keras.layers import Conv2D,MaxPool2D,Dense,Dropout,Softmax,Input,Flatten, SeparableConv2D\n",
        "from keras.optimizers import Adam,RMSprop,SGD\n",
        "from keras.layers.merge import add\n",
        "from keras.layers import Dense, Activation, Flatten\n",
        "from keras.layers import Conv2D, MaxPooling2D, BatchNormalization\n",
        "from keras.layers import BatchNormalization\n",
        "from keras.metrics import categorical_accuracy\n",
        "from keras.preprocessing.image import ImageDataGenerator\n",
        "\n",
        "from sklearn.metrics import roc_auc_score,roc_curve,accuracy_score,recall_score\n",
        "\n",
        "# from tensorflow import set_random_seed\n",
        "import tensorflow as tf"
      ],
      "execution_count": 0,
      "outputs": [
        {
          "output_type": "stream",
          "text": [
            "Using TensorFlow backend.\n"
          ],
          "name": "stderr"
        }
      ]
    },
    {
      "cell_type": "code",
      "metadata": {
        "id": "tkSP5sFf7ed3",
        "colab_type": "code",
        "colab": {}
      },
      "source": [
        "os.environ['PYTHONHASHSEED'] = \"0\"\n",
        "np.random.seed(1)\n",
        "# set_random_seed(2)\n",
        "tf.random.set_seed(2)"
      ],
      "execution_count": 0,
      "outputs": []
    },
    {
      "cell_type": "markdown",
      "metadata": {
        "id": "xAMgZSovBAt1",
        "colab_type": "text"
      },
      "source": [
        "## Model 1: Simple CNN"
      ]
    },
    {
      "cell_type": "code",
      "metadata": {
        "id": "YWbxCW1WA_0w",
        "colab_type": "code",
        "colab": {}
      },
      "source": [
        "model = Sequential()\n",
        "model.add(Conv2D(filters=32, kernel_size=(3,3), activation=\"relu\", padding=\"same\", input_shape=(64,64,1)))\n",
        "model.add(Conv2D(filters=32, kernel_size=(3,3), activation=\"relu\", padding=\"same\"))\n",
        "model.add(BatchNormalization())\n",
        "model.add(MaxPooling2D(pool_size=(2,2)))\n",
        "model.add(Dropout(rate=0.25))\n",
        "\n",
        "model.add(Conv2D(filters=64, kernel_size=(3,3), activation=\"relu\", padding=\"same\"))\n",
        "model.add(Conv2D(filters=64, kernel_size=(3,3), activation=\"relu\", padding=\"same\"))\n",
        "model.add(BatchNormalization())\n",
        "model.add(MaxPooling2D(pool_size=(2,2)))\n",
        "model.add(Dropout(rate=0.25))\n",
        "\n",
        "model.add(Flatten())\n",
        "model.add(Dense(1024,activation=\"relu\"))\n",
        "model.add(BatchNormalization())\n",
        "model.add(Dropout(rate=0.4))\n",
        "model.add(Dense(2, activation=\"softmax\"))"
      ],
      "execution_count": 0,
      "outputs": []
    },
    {
      "cell_type": "markdown",
      "metadata": {
        "id": "WIkjg-atC3OL",
        "colab_type": "text"
      },
      "source": [
        "## Model 2: VGG16"
      ]
    },
    {
      "cell_type": "code",
      "metadata": {
        "id": "-eEMxIhAC56O",
        "colab_type": "code",
        "colab": {}
      },
      "source": [
        "# from keras.layers import SeparableConv2D, ZeroPadding2D\n",
        "\n",
        "# model = Sequential()\n",
        "# model.add(Conv2D(64, (3,3), activation='relu', padding='same', name='Conv1_1', input_shape=(224,224,1)))\n",
        "# model.add(Conv2D(64, (3,3), activation=\"relu\", padding=\"same\"))\n",
        "# # model.add(BatchNormalization())\n",
        "# model.add(MaxPooling2D(pool_size=(2, 2), strides=(2, 2), padding=\"SAME\"))\n",
        "\n",
        "# model.add(SeparableConv2D(128, (3,3), activation='relu', padding='same'))\n",
        "# model.add(SeparableConv2D(128, (3,3), activation='relu', padding='same'))\n",
        "# # model.add(BatchNormalization())\n",
        "# model.add(MaxPooling2D(pool_size=(2, 2), strides=(2, 2), padding=\"SAME\"))\n",
        "\n",
        "# model.add(SeparableConv2D(256, (3,3), activation='relu', padding='same'))\n",
        "# model.add(SeparableConv2D(256, (3,3), activation='relu', padding='same'))\n",
        "# model.add(SeparableConv2D(256, (3,3), activation='relu', padding='same'))\n",
        "# # model.add(BatchNormalization())\n",
        "# model.add(MaxPooling2D(pool_size=(2, 2), strides=(2, 2), padding=\"SAME\"))\n",
        "\n",
        "# model.add(SeparableConv2D(512, (3,3), activation='relu', padding='same'))\n",
        "# model.add(SeparableConv2D(512, (3,3), activation='relu', padding='same'))\n",
        "# model.add(SeparableConv2D(512, (3,3), activation='relu', padding='same'))\n",
        "# # model.add(BatchNormalization())\n",
        "# model.add(MaxPooling2D(pool_size=(2, 2), strides=(2, 2), padding=\"SAME\"))\n",
        "\n",
        "# model.add(SeparableConv2D(512, (3,3), activation='relu', padding='same'))\n",
        "# model.add(SeparableConv2D(512, (3,3), activation='relu', padding='same'))\n",
        "# model.add(SeparableConv2D(512, (3,3), activation='relu', padding='same'))\n",
        "# # model.add(BatchNormalization())\n",
        "# model.add(MaxPooling2D(pool_size=(2, 2), strides=(2, 2), padding=\"SAME\"))\n",
        "\n",
        "# model.add(Flatten())\n",
        "# model.add(Dense(4096, activation='relu'))\n",
        "# model.add(Dense(4096, activation='relu'))\n",
        "# # model.add(Dropout(0.7))\n",
        "# model.add(Dense(1000, activation='relu'))\n",
        "# # model.add(Dropout(0.5))\n",
        "\n",
        "# model.add(Dense(2, activation='softmax'))"
      ],
      "execution_count": 0,
      "outputs": []
    },
    {
      "cell_type": "code",
      "metadata": {
        "id": "LblRJecABHLW",
        "colab_type": "code",
        "outputId": "3ef23511-c999-4d60-e166-5e790afe86ad",
        "colab": {
          "base_uri": "https://localhost:8080/",
          "height": 663
        }
      },
      "source": [
        "model.summary()"
      ],
      "execution_count": 0,
      "outputs": [
        {
          "output_type": "stream",
          "text": [
            "Model: \"sequential_1\"\n",
            "_________________________________________________________________\n",
            "Layer (type)                 Output Shape              Param #   \n",
            "=================================================================\n",
            "conv2d_1 (Conv2D)            (None, 64, 64, 32)        320       \n",
            "_________________________________________________________________\n",
            "conv2d_2 (Conv2D)            (None, 64, 64, 32)        9248      \n",
            "_________________________________________________________________\n",
            "batch_normalization_1 (Batch (None, 64, 64, 32)        128       \n",
            "_________________________________________________________________\n",
            "max_pooling2d_1 (MaxPooling2 (None, 32, 32, 32)        0         \n",
            "_________________________________________________________________\n",
            "dropout_1 (Dropout)          (None, 32, 32, 32)        0         \n",
            "_________________________________________________________________\n",
            "conv2d_3 (Conv2D)            (None, 32, 32, 64)        18496     \n",
            "_________________________________________________________________\n",
            "conv2d_4 (Conv2D)            (None, 32, 32, 64)        36928     \n",
            "_________________________________________________________________\n",
            "batch_normalization_2 (Batch (None, 32, 32, 64)        256       \n",
            "_________________________________________________________________\n",
            "max_pooling2d_2 (MaxPooling2 (None, 16, 16, 64)        0         \n",
            "_________________________________________________________________\n",
            "dropout_2 (Dropout)          (None, 16, 16, 64)        0         \n",
            "_________________________________________________________________\n",
            "flatten_1 (Flatten)          (None, 16384)             0         \n",
            "_________________________________________________________________\n",
            "dense_1 (Dense)              (None, 1024)              16778240  \n",
            "_________________________________________________________________\n",
            "batch_normalization_3 (Batch (None, 1024)              4096      \n",
            "_________________________________________________________________\n",
            "dropout_3 (Dropout)          (None, 1024)              0         \n",
            "_________________________________________________________________\n",
            "dense_2 (Dense)              (None, 2)                 2050      \n",
            "=================================================================\n",
            "Total params: 16,849,762\n",
            "Trainable params: 16,847,522\n",
            "Non-trainable params: 2,240\n",
            "_________________________________________________________________\n"
          ],
          "name": "stdout"
        }
      ]
    },
    {
      "cell_type": "code",
      "metadata": {
        "id": "2r5sGSNP7hBc",
        "colab_type": "code",
        "outputId": "6322f418-59bf-472f-a378-9e1740bfd65f",
        "colab": {
          "base_uri": "https://localhost:8080/",
          "height": 68
        }
      },
      "source": [
        "gen = ImageDataGenerator()\n",
        "train_batches = gen.flow_from_directory(\"chest_xray/chest_xray/train\", model.input_shape[1:3], color_mode=\"grayscale\", shuffle=True, seed=1, batch_size=16)\n",
        "valid_batches = gen.flow_from_directory(\"chest_xray/chest_xray/val\",   model.input_shape[1:3], color_mode=\"grayscale\", shuffle=True, seed=1, batch_size=16)\n",
        "test_batches  = gen.flow_from_directory(\"chest_xray/chest_xray/test\",  model.input_shape[1:3], color_mode=\"grayscale\", shuffle=False, batch_size=8)"
      ],
      "execution_count": 0,
      "outputs": [
        {
          "output_type": "stream",
          "text": [
            "Found 5216 images belonging to 2 classes.\n",
            "Found 16 images belonging to 2 classes.\n",
            "Found 624 images belonging to 2 classes.\n"
          ],
          "name": "stdout"
        }
      ]
    },
    {
      "cell_type": "markdown",
      "metadata": {
        "id": "l7RSffCOBxVp",
        "colab_type": "text"
      },
      "source": [
        "## **Experiment 1.** learning rate = 0.01"
      ]
    },
    {
      "cell_type": "code",
      "metadata": {
        "id": "D8i4D_TRBKS7",
        "colab_type": "code",
        "outputId": "abc60bb6-7fa6-48e9-e754-c864226c02e3",
        "colab": {
          "base_uri": "https://localhost:8080/",
          "height": 136
        }
      },
      "source": [
        "model.compile(Adam(lr=0.001),loss=\"categorical_crossentropy\", metrics=[\"accuracy\"])\n",
        "model.fit_generator(train_batches, validation_data=valid_batches, epochs=3)"
      ],
      "execution_count": 0,
      "outputs": [
        {
          "output_type": "stream",
          "text": [
            "Epoch 1/3\n",
            "326/326 [==============================] - 62s 190ms/step - loss: 0.2846 - accuracy: 0.9064 - val_loss: 7.3167 - val_accuracy: 0.5000\n",
            "Epoch 2/3\n",
            "326/326 [==============================] - 56s 173ms/step - loss: 0.1589 - accuracy: 0.9419 - val_loss: 0.5919 - val_accuracy: 0.8125\n",
            "Epoch 3/3\n",
            "326/326 [==============================] - 56s 173ms/step - loss: 0.1650 - accuracy: 0.9425 - val_loss: 3.4145 - val_accuracy: 0.5000\n"
          ],
          "name": "stdout"
        },
        {
          "output_type": "execute_result",
          "data": {
            "text/plain": [
              "<keras.callbacks.callbacks.History at 0x7f47f1dd6898>"
            ]
          },
          "metadata": {
            "tags": []
          },
          "execution_count": 17
        }
      ]
    },
    {
      "cell_type": "code",
      "metadata": {
        "id": "R3GIQE86UbUM",
        "colab_type": "code",
        "outputId": "5ab99b6a-47e8-4572-ed36-250afd4b8598",
        "colab": {
          "base_uri": "https://localhost:8080/",
          "height": 272
        }
      },
      "source": [
        "p = model.predict_generator(test_batches, verbose=True)\n",
        "pre = pd.DataFrame(p)\n",
        "pre[\"filename\"] = test_batches.filenames\n",
        "pre[\"label\"] = (pre[\"filename\"].str.contains(\"PNEUMONIA\")).apply(int)\n",
        "pre['pre'] = (pre[1]>0.5).apply(int)\n",
        "print(pre)"
      ],
      "execution_count": 0,
      "outputs": [
        {
          "output_type": "stream",
          "text": [
            "78/78 [==============================] - 5s 69ms/step\n",
            "                0         1                              filename  label  pre\n",
            "0    6.054331e-02  0.939457              NORMAL/IM-0001-0001.jpeg      0    1\n",
            "1    7.968577e-05  0.999920              NORMAL/IM-0003-0001.jpeg      0    1\n",
            "2    3.420250e-04  0.999658              NORMAL/IM-0005-0001.jpeg      0    1\n",
            "3    3.255044e-06  0.999997              NORMAL/IM-0006-0001.jpeg      0    1\n",
            "4    1.407000e-02  0.985930              NORMAL/IM-0007-0001.jpeg      0    1\n",
            "..            ...       ...                                   ...    ...  ...\n",
            "619  1.351212e-09  1.000000  PNEUMONIA/person96_bacteria_465.jpeg      1    1\n",
            "620  5.533320e-09  1.000000  PNEUMONIA/person96_bacteria_466.jpeg      1    1\n",
            "621  3.916551e-07  1.000000  PNEUMONIA/person97_bacteria_468.jpeg      1    1\n",
            "622  4.478279e-07  1.000000  PNEUMONIA/person99_bacteria_473.jpeg      1    1\n",
            "623  1.595170e-05  0.999984  PNEUMONIA/person99_bacteria_474.jpeg      1    1\n",
            "\n",
            "[624 rows x 5 columns]\n"
          ],
          "name": "stdout"
        }
      ]
    },
    {
      "cell_type": "code",
      "metadata": {
        "id": "3GlXF49nUdnz",
        "colab_type": "code",
        "outputId": "0c73b3cd-c8f2-4d03-f4a7-5908f4ae619d",
        "colab": {
          "base_uri": "https://localhost:8080/",
          "height": 34
        }
      },
      "source": [
        "recall_score(pre[\"label\"], pre[\"pre\"])"
      ],
      "execution_count": 0,
      "outputs": [
        {
          "output_type": "execute_result",
          "data": {
            "text/plain": [
              "1.0"
            ]
          },
          "metadata": {
            "tags": []
          },
          "execution_count": 19
        }
      ]
    },
    {
      "cell_type": "code",
      "metadata": {
        "id": "w4mL0WESUe6A",
        "colab_type": "code",
        "outputId": "b52fc11a-03bf-45ec-9591-3b85ddd1d9b0",
        "colab": {
          "base_uri": "https://localhost:8080/",
          "height": 34
        }
      },
      "source": [
        "roc_auc_score(pre[\"label\"],pre[1])"
      ],
      "execution_count": 0,
      "outputs": [
        {
          "output_type": "execute_result",
          "data": {
            "text/plain": [
              "0.9077690116151654"
            ]
          },
          "metadata": {
            "tags": []
          },
          "execution_count": 20
        }
      ]
    },
    {
      "cell_type": "code",
      "metadata": {
        "id": "ebdrbMPlUgWQ",
        "colab_type": "code",
        "outputId": "3d308110-88b3-4979-d695-105864615d19",
        "colab": {
          "base_uri": "https://localhost:8080/",
          "height": 296
        }
      },
      "source": [
        "tpr,fpr,thres = roc_curve(pre[\"label\"],pre[1])\n",
        "roc = pd.DataFrame([tpr,fpr]).T\n",
        "roc.plot(x=0,y=1)"
      ],
      "execution_count": 0,
      "outputs": [
        {
          "output_type": "execute_result",
          "data": {
            "text/plain": [
              "<matplotlib.axes._subplots.AxesSubplot at 0x7f47f1982b38>"
            ]
          },
          "metadata": {
            "tags": []
          },
          "execution_count": 21
        },
        {
          "output_type": "display_data",
          "data": {
            "image/png": "[encoded data removed]",
            "text/plain": [
              "<Figure size 432x288 with 1 Axes>"
            ]
          },
          "metadata": {
            "tags": [],
            "needs_background": "light"
          }
        }
      ]
    },
    {
      "cell_type": "markdown",
      "metadata": {
        "id": "KKHHXKBIUg3F",
        "colab_type": "text"
      },
      "source": [
        "## **Experiment 2.** learning rate = 0.001"
      ]
    },
    {
      "cell_type": "code",
      "metadata": {
        "id": "gYZ8JDFFUZVt",
        "colab_type": "code",
        "outputId": "468e3341-c09c-4f13-8288-7b8977da4f89",
        "colab": {
          "base_uri": "https://localhost:8080/",
          "height": 136
        }
      },
      "source": [
        "model.compile(Adam(lr=0.001),loss=\"categorical_crossentropy\", metrics=[\"accuracy\"])\n",
        "model.fit_generator(train_batches, validation_data=valid_batches, epochs=3)"
      ],
      "execution_count": 0,
      "outputs": [
        {
          "output_type": "stream",
          "text": [
            "Epoch 1/3\n",
            "326/326 [==============================] - 57s 175ms/step - loss: 0.1735 - accuracy: 0.9419 - val_loss: 0.8525 - val_accuracy: 0.6875\n",
            "Epoch 2/3\n",
            "326/326 [==============================] - 56s 173ms/step - loss: 0.1396 - accuracy: 0.9500 - val_loss: 3.5784 - val_accuracy: 0.5000\n",
            "Epoch 3/3\n",
            "326/326 [==============================] - 56s 173ms/step - loss: 0.1221 - accuracy: 0.9548 - val_loss: 7.3646 - val_accuracy: 0.5000\n"
          ],
          "name": "stdout"
        },
        {
          "output_type": "execute_result",
          "data": {
            "text/plain": [
              "<keras.callbacks.callbacks.History at 0x7f4894094fd0>"
            ]
          },
          "metadata": {
            "tags": []
          },
          "execution_count": 22
        }
      ]
    },
    {
      "cell_type": "code",
      "metadata": {
        "id": "lGb9mTUHBeRy",
        "colab_type": "code",
        "outputId": "b4284156-78ac-4c7f-d2ba-9605e308a0cf",
        "colab": {
          "base_uri": "https://localhost:8080/",
          "height": 272
        }
      },
      "source": [
        "p = model.predict_generator(test_batches, verbose=True)\n",
        "pre = pd.DataFrame(p)\n",
        "pre[\"filename\"] = test_batches.filenames\n",
        "pre[\"label\"] = (pre[\"filename\"].str.contains(\"PNEUMONIA\")).apply(int)\n",
        "pre['pre'] = (pre[1]>0.5).apply(int)\n",
        "print(pre)"
      ],
      "execution_count": 0,
      "outputs": [
        {
          "output_type": "stream",
          "text": [
            "78/78 [==============================] - 5s 68ms/step\n",
            "                0         1                              filename  label  pre\n",
            "0    5.762905e-02  0.942371              NORMAL/IM-0001-0001.jpeg      0    1\n",
            "1    2.646970e-04  0.999735              NORMAL/IM-0003-0001.jpeg      0    1\n",
            "2    3.205183e-03  0.996795              NORMAL/IM-0005-0001.jpeg      0    1\n",
            "3    3.079990e-03  0.996920              NORMAL/IM-0006-0001.jpeg      0    1\n",
            "4    2.109102e-02  0.978909              NORMAL/IM-0007-0001.jpeg      0    1\n",
            "..            ...       ...                                   ...    ...  ...\n",
            "619  3.747863e-08  1.000000  PNEUMONIA/person96_bacteria_465.jpeg      1    1\n",
            "620  8.069613e-07  0.999999  PNEUMONIA/person96_bacteria_466.jpeg      1    1\n",
            "621  1.810586e-07  1.000000  PNEUMONIA/person97_bacteria_468.jpeg      1    1\n",
            "622  5.615748e-05  0.999944  PNEUMONIA/person99_bacteria_473.jpeg      1    1\n",
            "623  4.663210e-04  0.999534  PNEUMONIA/person99_bacteria_474.jpeg      1    1\n",
            "\n",
            "[624 rows x 5 columns]\n"
          ],
          "name": "stdout"
        }
      ]
    },
    {
      "cell_type": "code",
      "metadata": {
        "id": "1SeACpnKBgfz",
        "colab_type": "code",
        "outputId": "7fb904c0-11f3-4365-a77b-da2b99e72cea",
        "colab": {
          "base_uri": "https://localhost:8080/"
        }
      },
      "source": [
        "recall_score(pre[\"label\"], pre[\"pre\"])"
      ],
      "execution_count": 0,
      "outputs": [
        {
          "output_type": "execute_result",
          "data": {
            "text/plain": [
              "1.0"
            ]
          },
          "metadata": {
            "tags": []
          },
          "execution_count": 24
        }
      ]
    },
    {
      "cell_type": "code",
      "metadata": {
        "id": "Z56dibIqG4o4",
        "colab_type": "code",
        "outputId": "2800cb90-54d3-44b3-9f07-844e25faf19b",
        "colab": {
          "base_uri": "https://localhost:8080/"
        }
      },
      "source": [
        "roc_auc_score(pre[\"label\"],pre[1])"
      ],
      "execution_count": 0,
      "outputs": [
        {
          "output_type": "execute_result",
          "data": {
            "text/plain": [
              "0.8597030462415077"
            ]
          },
          "metadata": {
            "tags": []
          },
          "execution_count": 25
        }
      ]
    },
    {
      "cell_type": "code",
      "metadata": {
        "id": "SXbGksFkG3pA",
        "colab_type": "code",
        "outputId": "54a40e3c-e7d7-4b21-e849-acad78f5cd75",
        "colab": {
          "base_uri": "https://localhost:8080/",
          "height": 296
        }
      },
      "source": [
        "tpr,fpr,thres = roc_curve(pre[\"label\"],pre[1])\n",
        "roc = pd.DataFrame([tpr,fpr]).T\n",
        "roc.plot(x=0,y=1)"
      ],
      "execution_count": 0,
      "outputs": [
        {
          "output_type": "execute_result",
          "data": {
            "text/plain": [
              "<matplotlib.axes._subplots.AxesSubplot at 0x7f4849447d68>"
            ]
          },
          "metadata": {
            "tags": []
          },
          "execution_count": 26
        },
        {
          "output_type": "display_data",
          "data": {
            "image/png": "[encoded data removed]",
            "text/plain": [
              "<Figure size 432x288 with 1 Axes>"
            ]
          },
          "metadata": {
            "tags": [],
            "needs_background": "light"
          }
        }
      ]
    },
    {
      "cell_type": "markdown",
      "metadata": {
        "id": "_x4qqbHqBv2l",
        "colab_type": "text"
      },
      "source": [
        "## **Experiment 3.** learning rate = 0.0001"
      ]
    },
    {
      "cell_type": "code",
      "metadata": {
        "id": "8p1pCeFiBL8e",
        "colab_type": "code",
        "outputId": "b8a3984a-01fa-4d1d-e111-cd9f09fe745b",
        "colab": {
          "base_uri": "https://localhost:8080/",
          "height": 136
        }
      },
      "source": [
        "model.compile(Adam(lr=0.0001), loss=\"categorical_crossentropy\", metrics=[\"accuracy\"])\n",
        "model.fit_generator(train_batches, validation_data=valid_batches, epochs=3)"
      ],
      "execution_count": 0,
      "outputs": [
        {
          "output_type": "stream",
          "text": [
            "Epoch 1/3\n",
            "326/326 [==============================] - 57s 175ms/step - loss: 0.0841 - accuracy: 0.9701 - val_loss: 0.1396 - val_accuracy: 0.8750\n",
            "Epoch 2/3\n",
            "326/326 [==============================] - 56s 173ms/step - loss: 0.0726 - accuracy: 0.9760 - val_loss: 0.6152 - val_accuracy: 0.7500\n",
            "Epoch 3/3\n",
            "326/326 [==============================] - 56s 172ms/step - loss: 0.0691 - accuracy: 0.9741 - val_loss: 0.1196 - val_accuracy: 1.0000\n"
          ],
          "name": "stdout"
        },
        {
          "output_type": "execute_result",
          "data": {
            "text/plain": [
              "<keras.callbacks.callbacks.History at 0x7f4849fe75f8>"
            ]
          },
          "metadata": {
            "tags": []
          },
          "execution_count": 27
        }
      ]
    },
    {
      "cell_type": "code",
      "metadata": {
        "id": "y8pcUn4UBub9",
        "colab_type": "code",
        "outputId": "7c9dd651-7add-4f09-a172-611c6e79742d",
        "colab": {
          "base_uri": "https://localhost:8080/",
          "height": 34
        }
      },
      "source": [
        "p = model.predict_generator(test_batches, verbose=True)\n",
        "pre = pd.DataFrame(p)\n",
        "pre[\"filename\"] = test_batches.filenames\n",
        "pre[\"label\"] = (pre[\"filename\"].str.contains(\"PNEUMONIA\")).apply(int)\n",
        "pre['pre'] = (pre[1]>0.5).apply(int)"
      ],
      "execution_count": 0,
      "outputs": [
        {
          "output_type": "stream",
          "text": [
            "78/78 [==============================] - 5s 69ms/step\n"
          ],
          "name": "stdout"
        }
      ]
    },
    {
      "cell_type": "code",
      "metadata": {
        "id": "IeiPJQpdBmJm",
        "colab_type": "code",
        "outputId": "4ba40536-e982-49d3-914f-0f9b148d24df",
        "colab": {
          "base_uri": "https://localhost:8080/"
        }
      },
      "source": [
        "recall_score(pre[\"label\"],pre[\"pre\"])"
      ],
      "execution_count": 0,
      "outputs": [
        {
          "output_type": "execute_result",
          "data": {
            "text/plain": [
              "0.9897435897435898"
            ]
          },
          "metadata": {
            "tags": []
          },
          "execution_count": 29
        }
      ]
    },
    {
      "cell_type": "code",
      "metadata": {
        "id": "y27upvTRTxAK",
        "colab_type": "code",
        "outputId": "b8aecbea-c29f-407a-fd56-a81b06eb841a",
        "colab": {
          "base_uri": "https://localhost:8080/"
        }
      },
      "source": [
        "roc_auc_score(pre[\"label\"],pre[1])"
      ],
      "execution_count": 0,
      "outputs": [
        {
          "output_type": "execute_result",
          "data": {
            "text/plain": [
              "0.905221345605961"
            ]
          },
          "metadata": {
            "tags": []
          },
          "execution_count": 30
        }
      ]
    },
    {
      "cell_type": "code",
      "metadata": {
        "id": "fGbBJpzrTyOK",
        "colab_type": "code",
        "outputId": "94848fe9-0929-4455-d3f4-7bef14bb9d03",
        "colab": {
          "base_uri": "https://localhost:8080/",
          "height": 296
        }
      },
      "source": [
        "tpr,fpr,thres = roc_curve(pre[\"label\"],pre[1])\n",
        "roc = pd.DataFrame([tpr,fpr]).T\n",
        "roc.plot(x=0,y=1)"
      ],
      "execution_count": 0,
      "outputs": [
        {
          "output_type": "execute_result",
          "data": {
            "text/plain": [
              "<matplotlib.axes._subplots.AxesSubplot at 0x7f47f0abcc88>"
            ]
          },
          "metadata": {
            "tags": []
          },
          "execution_count": 31
        },
        {
          "output_type": "display_data",
          "data": {
            "image/png": "[encoded data removed]",
            "text/plain": [
              "<Figure size 432x288 with 1 Axes>"
            ]
          },
          "metadata": {
            "tags": [],
            "needs_background": "light"
          }
        }
      ]
    }
  ]
}