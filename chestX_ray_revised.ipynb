{
  "nbformat": 4,
  "nbformat_minor": 0,
  "metadata": {
    "colab": {
      "name": "chestX-ray-revised.ipynb",
      "provenance": [],
      "authorship_tag": "ABX9TyOwW+5RFXJlrkzjL2krmEBf",
      "include_colab_link": true
    },
    "kernelspec": {
      "name": "python3",
      "display_name": "Python 3"
    },
    "accelerator": "GPU"
  },
  "cells": [
    {
      "cell_type": "markdown",
      "metadata": {
        "id": "view-in-github",
        "colab_type": "text"
      },
      "source": [
        "<a href=\"https://colab.research.google.com/github/ronniesong0809/chestX-ray/blob/master/chestX_ray_revised.ipynb\" target=\"_parent\"><img src=\"https://colab.research.google.com/assets/colab-badge.svg\" alt=\"Open In Colab\"/></a>"
      ]
    },
    {
      "cell_type": "code",
      "metadata": {
        "id": "-sWA-AbmbU32",
        "colab_type": "code",
        "colab": {}
      },
      "source": [
        "!echo '{\"username\":\"ronniesong0809\",\"key\":\"269788090750b1eb7d55a04d86886708\"}' > kaggle.json\n",
        "!cp /content/kaggle.json /root/.kaggle/kaggle.json"
      ],
      "execution_count": 0,
      "outputs": []
    },
    {
      "cell_type": "code",
      "metadata": {
        "id": "rZnw1gNWbY77",
        "colab_type": "code",
        "outputId": "1dec5089-7947-4b51-93e1-cef24339ac7f",
        "colab": {
          "base_uri": "https://localhost:8080/",
          "height": 34
        }
      },
      "source": [
        "!cp /content/kaggle.json /root/.kaggle/kaggle.json\n",
        "!chmod 600 /root/.kaggle/kaggle.json\n",
        "!kaggle config set -n path -v/content"
      ],
      "execution_count": 0,
      "outputs": [
        {
          "output_type": "stream",
          "text": [
            "- path is now set to: /content\n"
          ],
          "name": "stdout"
        }
      ]
    },
    {
      "cell_type": "code",
      "metadata": {
        "id": "K-O0_tbfbZ6P",
        "colab_type": "code",
        "outputId": "8b8df5fa-3105-4e9b-88f2-cff89795d573",
        "colab": {
          "base_uri": "https://localhost:8080/",
          "height": 119
        }
      },
      "source": [
        "!kaggle datasets download -d paultimothymooney/chest-xray-pneumonia\n",
        "!kaggle datasets download -d keras/vgg19"
      ],
      "execution_count": 0,
      "outputs": [
        {
          "output_type": "stream",
          "text": [
            "Downloading chest-xray-pneumonia.zip to /content/datasets/paultimothymooney/chest-xray-pneumonia\n",
            " 99% 2.27G/2.29G [00:50<00:00, 48.3MB/s]\n",
            "100% 2.29G/2.29G [00:51<00:00, 48.2MB/s]\n",
            "Downloading vgg19.zip to /content/datasets/keras/vgg19\n",
            " 98% 569M/580M [00:14<00:00, 36.5MB/s]\n",
            "100% 580M/580M [00:14<00:00, 42.0MB/s]\n"
          ],
          "name": "stdout"
        }
      ]
    },
    {
      "cell_type": "code",
      "metadata": {
        "id": "v6nqYWutbcxl",
        "colab_type": "code",
        "colab": {}
      },
      "source": [
        "!unzip datasets/paultimothymooney/chest-xray-pneumonia/chest-xray-pneumonia.zip\n",
        "!unzip datasets/keras/vgg19/vgg19.zip"
      ],
      "execution_count": 0,
      "outputs": []
    },
    {
      "cell_type": "code",
      "metadata": {
        "id": "bE0R_QBrbgxU",
        "colab_type": "code",
        "colab": {}
      },
      "source": [
        "from tensorflow.keras.applications import VGG19\n",
        "from tensorflow.keras.models import Sequential\n",
        "from tensorflow.keras.layers import Dense, Flatten, GlobalAveragePooling2D\n",
        "\n",
        "num_classes = 2\n",
        "# resnet_weights_path = '../input/resnet50/resnet50_weights_tf_dim_ordering_tf_kernels_notop.h5'\n",
        "vgg_weights_path = 'vgg19_weights_tf_dim_ordering_tf_kernels_notop.h5'\n",
        "\n",
        "my_new_model = Sequential()\n",
        "model_VGG19 = VGG19(include_top=False, pooling='avg', weights=vgg_weights_path)\n",
        "my_new_model.add(model_VGG19)\n",
        "my_new_model.add(Dense(num_classes, activation='softmax'))\n",
        "\n",
        "# Indicate whether the first layer should be trained/changed or not.\n",
        "my_new_model.layers[0].trainable = False"
      ],
      "execution_count": 0,
      "outputs": []
    },
    {
      "cell_type": "code",
      "metadata": {
        "id": "dY-kzhZ9bhuf",
        "colab_type": "code",
        "outputId": "422e64d5-b2df-4e73-b38c-0157b20faa4a",
        "colab": {
          "base_uri": "https://localhost:8080/",
          "height": 935
        }
      },
      "source": [
        "model_VGG19.summary()"
      ],
      "execution_count": 0,
      "outputs": [
        {
          "output_type": "stream",
          "text": [
            "Model: \"vgg19\"\n",
            "_________________________________________________________________\n",
            "Layer (type)                 Output Shape              Param #   \n",
            "=================================================================\n",
            "input_1 (InputLayer)         [(None, None, None, 3)]   0         \n",
            "_________________________________________________________________\n",
            "block1_conv1 (Conv2D)        (None, None, None, 64)    1792      \n",
            "_________________________________________________________________\n",
            "block1_conv2 (Conv2D)        (None, None, None, 64)    36928     \n",
            "_________________________________________________________________\n",
            "block1_pool (MaxPooling2D)   (None, None, None, 64)    0         \n",
            "_________________________________________________________________\n",
            "block2_conv1 (Conv2D)        (None, None, None, 128)   73856     \n",
            "_________________________________________________________________\n",
            "block2_conv2 (Conv2D)        (None, None, None, 128)   147584    \n",
            "_________________________________________________________________\n",
            "block2_pool (MaxPooling2D)   (None, None, None, 128)   0         \n",
            "_________________________________________________________________\n",
            "block3_conv1 (Conv2D)        (None, None, None, 256)   295168    \n",
            "_________________________________________________________________\n",
            "block3_conv2 (Conv2D)        (None, None, None, 256)   590080    \n",
            "_________________________________________________________________\n",
            "block3_conv3 (Conv2D)        (None, None, None, 256)   590080    \n",
            "_________________________________________________________________\n",
            "block3_conv4 (Conv2D)        (None, None, None, 256)   590080    \n",
            "_________________________________________________________________\n",
            "block3_pool (MaxPooling2D)   (None, None, None, 256)   0         \n",
            "_________________________________________________________________\n",
            "block4_conv1 (Conv2D)        (None, None, None, 512)   1180160   \n",
            "_________________________________________________________________\n",
            "block4_conv2 (Conv2D)        (None, None, None, 512)   2359808   \n",
            "_________________________________________________________________\n",
            "block4_conv3 (Conv2D)        (None, None, None, 512)   2359808   \n",
            "_________________________________________________________________\n",
            "block4_conv4 (Conv2D)        (None, None, None, 512)   2359808   \n",
            "_________________________________________________________________\n",
            "block4_pool (MaxPooling2D)   (None, None, None, 512)   0         \n",
            "_________________________________________________________________\n",
            "block5_conv1 (Conv2D)        (None, None, None, 512)   2359808   \n",
            "_________________________________________________________________\n",
            "block5_conv2 (Conv2D)        (None, None, None, 512)   2359808   \n",
            "_________________________________________________________________\n",
            "block5_conv3 (Conv2D)        (None, None, None, 512)   2359808   \n",
            "_________________________________________________________________\n",
            "block5_conv4 (Conv2D)        (None, None, None, 512)   2359808   \n",
            "_________________________________________________________________\n",
            "block5_pool (MaxPooling2D)   (None, None, None, 512)   0         \n",
            "_________________________________________________________________\n",
            "global_average_pooling2d (Gl (None, 512)               0         \n",
            "=================================================================\n",
            "Total params: 20,024,384\n",
            "Trainable params: 0\n",
            "Non-trainable params: 20,024,384\n",
            "_________________________________________________________________\n"
          ],
          "name": "stdout"
        }
      ]
    },
    {
      "cell_type": "code",
      "metadata": {
        "id": "dnIVBj6dbjc7",
        "colab_type": "code",
        "outputId": "8431559c-959a-4923-a93e-252209cff5d0",
        "colab": {
          "base_uri": "https://localhost:8080/",
          "height": 221
        }
      },
      "source": [
        "my_new_model.summary()"
      ],
      "execution_count": 0,
      "outputs": [
        {
          "output_type": "stream",
          "text": [
            "Model: \"sequential_1\"\n",
            "_________________________________________________________________\n",
            "Layer (type)                 Output Shape              Param #   \n",
            "=================================================================\n",
            "vgg19 (Model)                (None, 512)               20024384  \n",
            "_________________________________________________________________\n",
            "dense (Dense)                (None, 2)                 1026      \n",
            "=================================================================\n",
            "Total params: 20,025,410\n",
            "Trainable params: 1,026\n",
            "Non-trainable params: 20,024,384\n",
            "_________________________________________________________________\n"
          ],
          "name": "stdout"
        }
      ]
    },
    {
      "cell_type": "code",
      "metadata": {
        "id": "DwtXSYyPbklE",
        "colab_type": "code",
        "colab": {}
      },
      "source": [
        "my_new_model.compile(optimizer='sgd', loss='categorical_crossentropy', metrics=['accuracy'])"
      ],
      "execution_count": 0,
      "outputs": []
    },
    {
      "cell_type": "code",
      "metadata": {
        "id": "YrABUw37blWv",
        "colab_type": "code",
        "outputId": "2f31b38a-e10f-4e47-ce75-0fc2629946fc",
        "colab": {
          "base_uri": "https://localhost:8080/",
          "height": 68
        }
      },
      "source": [
        "from tensorflow.keras.applications.resnet50 import preprocess_input\n",
        "from tensorflow.keras.preprocessing.image import ImageDataGenerator\n",
        "\n",
        "image_size = 224\n",
        "data_generator = ImageDataGenerator(preprocess_input)\n",
        "\n",
        "train_generator = data_generator.flow_from_directory(\n",
        "                                        directory=\"chest_xray/chest_xray/train\",\n",
        "                                        target_size=(image_size, image_size),\n",
        "                                        batch_size=16,\n",
        "                                        class_mode='categorical')\n",
        "\n",
        "validation_generator = data_generator.flow_from_directory(\n",
        "                                        directory=\"chest_xray/chest_xray/val\",\n",
        "                                        target_size=(image_size, image_size),\n",
        "                                        class_mode='categorical')\n",
        "\n",
        "test_generator = data_generator.flow_from_directory(\n",
        "                                        directory=\"chest_xray/chest_xray/test\",\n",
        "                                        target_size=(image_size, image_size),\n",
        "                                        class_mode='categorical')"
      ],
      "execution_count": 0,
      "outputs": [
        {
          "output_type": "stream",
          "text": [
            "Found 5216 images belonging to 2 classes.\n",
            "Found 16 images belonging to 2 classes.\n",
            "Found 624 images belonging to 2 classes.\n"
          ],
          "name": "stdout"
        }
      ]
    },
    {
      "cell_type": "code",
      "metadata": {
        "id": "G9HXLg9UbmHi",
        "colab_type": "code",
        "outputId": "5087decb-663b-4070-f0f7-1cdf2014f232",
        "colab": {
          "base_uri": "https://localhost:8080/",
          "height": 1000
        }
      },
      "source": [
        "# fit_stats below saves some statistics describing how model fitting went\n",
        "# the key role of the following line is how it changes my_new_model by fitting to data\n",
        "fit_stats = my_new_model.fit_generator(train_generator, epochs=20, validation_data=validation_generator, validation_steps=16, verbose=1)"
      ],
      "execution_count": 0,
      "outputs": [
        {
          "output_type": "stream",
          "text": [
            "/usr/local/lib/python3.6/dist-packages/keras_preprocessing/image/image_data_generator.py:720: UserWarning: This ImageDataGenerator specifies `featurewise_center`, but it hasn't been fit on any training data. Fit it first by calling `.fit(numpy_data)`.\n",
            "  warnings.warn('This ImageDataGenerator specifies '\n"
          ],
          "name": "stderr"
        },
        {
          "output_type": "stream",
          "text": [
            "Epoch 1/20\n",
            "326/326 [==============================] - ETA: 0s - loss: 0.3946 - accuracy: 0.9521WARNING:tensorflow:Your input ran out of data; interrupting training. Make sure that your dataset or generator can generate at least `steps_per_epoch * epochs` batches (in this case, 16 batches). You may need to use the repeat() function when building your dataset.\n",
            "326/326 [==============================] - 77s 236ms/step - loss: 0.3946 - accuracy: 0.9521 - val_loss: 3.2827 - val_accuracy: 0.6250\n",
            "Epoch 2/20\n",
            "326/326 [==============================] - ETA: 0s - loss: 0.2760 - accuracy: 0.9657WARNING:tensorflow:Your input ran out of data; interrupting training. Make sure that your dataset or generator can generate at least `steps_per_epoch * epochs` batches (in this case, 16 batches). You may need to use the repeat() function when building your dataset.\n",
            "326/326 [==============================] - 77s 237ms/step - loss: 0.2760 - accuracy: 0.9657 - val_loss: 1.6308e-05 - val_accuracy: 1.0000\n",
            "Epoch 3/20\n",
            "326/326 [==============================] - ETA: 0s - loss: 0.2714 - accuracy: 0.9632WARNING:tensorflow:Your input ran out of data; interrupting training. Make sure that your dataset or generator can generate at least `steps_per_epoch * epochs` batches (in this case, 16 batches). You may need to use the repeat() function when building your dataset.\n",
            "326/326 [==============================] - 77s 235ms/step - loss: 0.2714 - accuracy: 0.9632 - val_loss: 0.0014 - val_accuracy: 1.0000\n",
            "Epoch 4/20\n",
            "326/326 [==============================] - ETA: 0s - loss: 0.2702 - accuracy: 0.9617WARNING:tensorflow:Your input ran out of data; interrupting training. Make sure that your dataset or generator can generate at least `steps_per_epoch * epochs` batches (in this case, 16 batches). You may need to use the repeat() function when building your dataset.\n",
            "326/326 [==============================] - 77s 236ms/step - loss: 0.2702 - accuracy: 0.9617 - val_loss: 4.8314 - val_accuracy: 0.5625\n",
            "Epoch 5/20\n",
            "326/326 [==============================] - ETA: 0s - loss: 0.2097 - accuracy: 0.9693WARNING:tensorflow:Your input ran out of data; interrupting training. Make sure that your dataset or generator can generate at least `steps_per_epoch * epochs` batches (in this case, 16 batches). You may need to use the repeat() function when building your dataset.\n",
            "326/326 [==============================] - 77s 238ms/step - loss: 0.2097 - accuracy: 0.9693 - val_loss: 0.0118 - val_accuracy: 1.0000\n",
            "Epoch 6/20\n",
            "326/326 [==============================] - ETA: 0s - loss: 0.1990 - accuracy: 0.9699WARNING:tensorflow:Your input ran out of data; interrupting training. Make sure that your dataset or generator can generate at least `steps_per_epoch * epochs` batches (in this case, 16 batches). You may need to use the repeat() function when building your dataset.\n",
            "326/326 [==============================] - 77s 237ms/step - loss: 0.1990 - accuracy: 0.9699 - val_loss: 5.4177 - val_accuracy: 0.5625\n",
            "Epoch 7/20\n",
            "326/326 [==============================] - ETA: 0s - loss: 0.1726 - accuracy: 0.9732WARNING:tensorflow:Your input ran out of data; interrupting training. Make sure that your dataset or generator can generate at least `steps_per_epoch * epochs` batches (in this case, 16 batches). You may need to use the repeat() function when building your dataset.\n",
            "326/326 [==============================] - 77s 238ms/step - loss: 0.1726 - accuracy: 0.9732 - val_loss: 0.0040 - val_accuracy: 1.0000\n",
            "Epoch 8/20\n",
            "326/326 [==============================] - ETA: 0s - loss: 0.2054 - accuracy: 0.9712WARNING:tensorflow:Your input ran out of data; interrupting training. Make sure that your dataset or generator can generate at least `steps_per_epoch * epochs` batches (in this case, 16 batches). You may need to use the repeat() function when building your dataset.\n",
            "326/326 [==============================] - 78s 238ms/step - loss: 0.2054 - accuracy: 0.9712 - val_loss: 1.1607 - val_accuracy: 0.8125\n",
            "Epoch 9/20\n",
            "326/326 [==============================] - ETA: 0s - loss: 0.1419 - accuracy: 0.9730WARNING:tensorflow:Your input ran out of data; interrupting training. Make sure that your dataset or generator can generate at least `steps_per_epoch * epochs` batches (in this case, 16 batches). You may need to use the repeat() function when building your dataset.\n",
            "326/326 [==============================] - 78s 240ms/step - loss: 0.1419 - accuracy: 0.9730 - val_loss: 0.2160 - val_accuracy: 0.9375\n",
            "Epoch 10/20\n",
            "326/326 [==============================] - ETA: 0s - loss: 0.1584 - accuracy: 0.9734WARNING:tensorflow:Your input ran out of data; interrupting training. Make sure that your dataset or generator can generate at least `steps_per_epoch * epochs` batches (in this case, 16 batches). You may need to use the repeat() function when building your dataset.\n",
            "326/326 [==============================] - 78s 239ms/step - loss: 0.1584 - accuracy: 0.9734 - val_loss: 1.1657 - val_accuracy: 0.8125\n",
            "Epoch 11/20\n",
            "326/326 [==============================] - ETA: 0s - loss: 0.1395 - accuracy: 0.9768WARNING:tensorflow:Your input ran out of data; interrupting training. Make sure that your dataset or generator can generate at least `steps_per_epoch * epochs` batches (in this case, 16 batches). You may need to use the repeat() function when building your dataset.\n",
            "326/326 [==============================] - 78s 238ms/step - loss: 0.1395 - accuracy: 0.9768 - val_loss: 0.5249 - val_accuracy: 0.9375\n",
            "Epoch 12/20\n",
            "326/326 [==============================] - ETA: 0s - loss: 0.1404 - accuracy: 0.9751WARNING:tensorflow:Your input ran out of data; interrupting training. Make sure that your dataset or generator can generate at least `steps_per_epoch * epochs` batches (in this case, 16 batches). You may need to use the repeat() function when building your dataset.\n",
            "326/326 [==============================] - 78s 238ms/step - loss: 0.1404 - accuracy: 0.9751 - val_loss: 1.0765 - val_accuracy: 0.7500\n",
            "Epoch 13/20\n",
            "326/326 [==============================] - ETA: 0s - loss: 0.1474 - accuracy: 0.9728WARNING:tensorflow:Your input ran out of data; interrupting training. Make sure that your dataset or generator can generate at least `steps_per_epoch * epochs` batches (in this case, 16 batches). You may need to use the repeat() function when building your dataset.\n",
            "326/326 [==============================] - 78s 238ms/step - loss: 0.1474 - accuracy: 0.9728 - val_loss: 0.4963 - val_accuracy: 0.9375\n",
            "Epoch 14/20\n",
            "326/326 [==============================] - ETA: 0s - loss: 0.1801 - accuracy: 0.9737WARNING:tensorflow:Your input ran out of data; interrupting training. Make sure that your dataset or generator can generate at least `steps_per_epoch * epochs` batches (in this case, 16 batches). You may need to use the repeat() function when building your dataset.\n",
            "326/326 [==============================] - 77s 237ms/step - loss: 0.1801 - accuracy: 0.9737 - val_loss: 0.2180 - val_accuracy: 0.9375\n",
            "Epoch 15/20\n",
            "326/326 [==============================] - ETA: 0s - loss: 0.1585 - accuracy: 0.9755WARNING:tensorflow:Your input ran out of data; interrupting training. Make sure that your dataset or generator can generate at least `steps_per_epoch * epochs` batches (in this case, 16 batches). You may need to use the repeat() function when building your dataset.\n",
            "326/326 [==============================] - 77s 237ms/step - loss: 0.1585 - accuracy: 0.9755 - val_loss: 0.2378 - val_accuracy: 0.9375\n",
            "Epoch 16/20\n",
            "326/326 [==============================] - ETA: 0s - loss: 0.1081 - accuracy: 0.9791WARNING:tensorflow:Your input ran out of data; interrupting training. Make sure that your dataset or generator can generate at least `steps_per_epoch * epochs` batches (in this case, 16 batches). You may need to use the repeat() function when building your dataset.\n",
            "326/326 [==============================] - 78s 239ms/step - loss: 0.1081 - accuracy: 0.9791 - val_loss: 0.1562 - val_accuracy: 0.9375\n",
            "Epoch 17/20\n",
            "326/326 [==============================] - ETA: 0s - loss: 0.1252 - accuracy: 0.9772WARNING:tensorflow:Your input ran out of data; interrupting training. Make sure that your dataset or generator can generate at least `steps_per_epoch * epochs` batches (in this case, 16 batches). You may need to use the repeat() function when building your dataset.\n",
            "326/326 [==============================] - 78s 238ms/step - loss: 0.1252 - accuracy: 0.9772 - val_loss: 2.0401e-04 - val_accuracy: 1.0000\n",
            "Epoch 18/20\n",
            "326/326 [==============================] - ETA: 0s - loss: 0.1218 - accuracy: 0.9766WARNING:tensorflow:Your input ran out of data; interrupting training. Make sure that your dataset or generator can generate at least `steps_per_epoch * epochs` batches (in this case, 16 batches). You may need to use the repeat() function when building your dataset.\n",
            "326/326 [==============================] - 77s 238ms/step - loss: 0.1218 - accuracy: 0.9766 - val_loss: 0.0165 - val_accuracy: 1.0000\n",
            "Epoch 19/20\n",
            "326/326 [==============================] - ETA: 0s - loss: 0.1146 - accuracy: 0.9797WARNING:tensorflow:Your input ran out of data; interrupting training. Make sure that your dataset or generator can generate at least `steps_per_epoch * epochs` batches (in this case, 16 batches). You may need to use the repeat() function when building your dataset.\n",
            "326/326 [==============================] - 77s 237ms/step - loss: 0.1146 - accuracy: 0.9797 - val_loss: 0.8932 - val_accuracy: 0.8125\n",
            "Epoch 20/20\n",
            "326/326 [==============================] - ETA: 0s - loss: 0.1215 - accuracy: 0.9808WARNING:tensorflow:Your input ran out of data; interrupting training. Make sure that your dataset or generator can generate at least `steps_per_epoch * epochs` batches (in this case, 16 batches). You may need to use the repeat() function when building your dataset.\n",
            "326/326 [==============================] - 78s 238ms/step - loss: 0.1215 - accuracy: 0.9808 - val_loss: 0.0010 - val_accuracy: 1.0000\n"
          ],
          "name": "stdout"
        }
      ]
    },
    {
      "cell_type": "code",
      "metadata": {
        "id": "LBtVbO3svg6w",
        "colab_type": "code",
        "outputId": "b18ef461-7155-487e-e17c-9ff4821fd1c3",
        "colab": {
          "base_uri": "https://localhost:8080/",
          "height": 295
        }
      },
      "source": [
        "import matplotlib.pyplot as plt\n",
        "\n",
        "plt.plot(fit_stats.history['accuracy'])\n",
        "plt.plot(fit_stats.history['val_accuracy'])\n",
        "plt.title('Model Accuracy')\n",
        "plt.ylabel('Accuracy')\n",
        "plt.xlabel('Epochs')\n",
        "plt.legend(['train', 'val'])\n",
        "plt.show()"
      ],
      "execution_count": 0,
      "outputs": [
        {
          "output_type": "display_data",
          "data": {
            "image/png": "[encoded data removed]",
            "text/plain": [
              "<Figure size 432x288 with 1 Axes>"
            ]
          },
          "metadata": {
            "tags": [],
            "needs_background": "light"
          }
        }
      ]
    },
    {
      "cell_type": "code",
      "metadata": {
        "id": "luqUj-T6vpAg",
        "colab_type": "code",
        "outputId": "3d0abaa0-0fa7-4e19-c4a3-2060277f5f8d",
        "colab": {
          "base_uri": "https://localhost:8080/",
          "height": 295
        }
      },
      "source": [
        "plt.plot(fit_stats.history['loss'])\n",
        "plt.plot(fit_stats.history['val_loss'])\n",
        "plt.title('Model Loss')\n",
        "plt.ylabel('Loss')\n",
        "plt.xlabel('Epochs')\n",
        "plt.legend(['train', 'val'])\n",
        "plt.show()"
      ],
      "execution_count": 0,
      "outputs": [
        {
          "output_type": "display_data",
          "data": {
            "image/png": "[encoded data removed]",
            "text/plain": [
              "<Figure size 432x288 with 1 Axes>"
            ]
          },
          "metadata": {
            "tags": [],
            "needs_background": "light"
          }
        }
      ]
    }
  ]
}